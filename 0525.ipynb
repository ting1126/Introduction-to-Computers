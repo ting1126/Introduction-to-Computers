{
  "nbformat": 4,
  "nbformat_minor": 0,
  "metadata": {
    "colab": {
      "name": "0525.ipynb",
      "provenance": [],
      "authorship_tag": "ABX9TyNdcnm3i+Gz36RnKmMTUial",
      "include_colab_link": true
    },
    "kernelspec": {
      "name": "python3",
      "display_name": "Python 3"
    },
    "language_info": {
      "name": "python"
    }
  },
  "cells": [
    {
      "cell_type": "markdown",
      "metadata": {
        "id": "view-in-github",
        "colab_type": "text"
      },
      "source": [
        "<a href=\"https://colab.research.google.com/github/ting1126/Introduction-to-Computers/blob/main/0525.ipynb\" target=\"_parent\"><img src=\"https://colab.research.google.com/assets/colab-badge.svg\" alt=\"Open In Colab\"/></a>"
      ]
    },
    {
      "cell_type": "code",
      "execution_count": 1,
      "metadata": {
        "colab": {
          "base_uri": "https://localhost:8080/"
        },
        "id": "hcdkHRxcBu14",
        "outputId": "cf08f69a-2447-4257-d085-6a36a3ceaed1"
      },
      "outputs": [
        {
          "output_type": "stream",
          "name": "stdout",
          "text": [
            "test\n"
          ]
        }
      ],
      "source": [
        "print(\"test\")"
      ]
    },
    {
      "cell_type": "code",
      "source": [
        "sum=0\n",
        "test=int(input(\"請輸入一個正整數:\"))\n",
        "for n in range(1,test+1):\n",
        "  sum=sum+n\n",
        "print(\"1到\",test,\"的整數和為\",sum)\n"
      ],
      "metadata": {
        "colab": {
          "base_uri": "https://localhost:8080/"
        },
        "id": "FIFjkeflCEIs",
        "outputId": "5c18f025-3170-4f30-ab92-f41cd35490e8"
      },
      "execution_count": 13,
      "outputs": [
        {
          "output_type": "stream",
          "name": "stdout",
          "text": [
            "請輸入一個正整數:50\n",
            "1到 50 的整數和為 1275\n"
          ]
        }
      ]
    },
    {
      "cell_type": "code",
      "source": [
        "sum=0\n",
        "test=int(input(\"請輸入一個正整數:\"))\n",
        "for m in range(1,test+1):\n",
        "  sum = sum+n\n",
        "  print(\"1到\",str(m),\"的整數和為\",sum)"
      ],
      "metadata": {
        "colab": {
          "base_uri": "https://localhost:8080/"
        },
        "id": "bRvdVY-IHthI",
        "outputId": "6788d9fd-23df-4314-fd01-48627d4e0d60"
      },
      "execution_count": 12,
      "outputs": [
        {
          "output_type": "stream",
          "name": "stdout",
          "text": [
            "請輸入一個正整數:50\n",
            "1到 1 的整數和為 50\n",
            "1到 2 的整數和為 100\n",
            "1到 3 的整數和為 150\n",
            "1到 4 的整數和為 200\n",
            "1到 5 的整數和為 250\n",
            "1到 6 的整數和為 300\n",
            "1到 7 的整數和為 350\n",
            "1到 8 的整數和為 400\n",
            "1到 9 的整數和為 450\n",
            "1到 10 的整數和為 500\n",
            "1到 11 的整數和為 550\n",
            "1到 12 的整數和為 600\n",
            "1到 13 的整數和為 650\n",
            "1到 14 的整數和為 700\n",
            "1到 15 的整數和為 750\n",
            "1到 16 的整數和為 800\n",
            "1到 17 的整數和為 850\n",
            "1到 18 的整數和為 900\n",
            "1到 19 的整數和為 950\n",
            "1到 20 的整數和為 1000\n",
            "1到 21 的整數和為 1050\n",
            "1到 22 的整數和為 1100\n",
            "1到 23 的整數和為 1150\n",
            "1到 24 的整數和為 1200\n",
            "1到 25 的整數和為 1250\n",
            "1到 26 的整數和為 1300\n",
            "1到 27 的整數和為 1350\n",
            "1到 28 的整數和為 1400\n",
            "1到 29 的整數和為 1450\n",
            "1到 30 的整數和為 1500\n",
            "1到 31 的整數和為 1550\n",
            "1到 32 的整數和為 1600\n",
            "1到 33 的整數和為 1650\n",
            "1到 34 的整數和為 1700\n",
            "1到 35 的整數和為 1750\n",
            "1到 36 的整數和為 1800\n",
            "1到 37 的整數和為 1850\n",
            "1到 38 的整數和為 1900\n",
            "1到 39 的整數和為 1950\n",
            "1到 40 的整數和為 2000\n",
            "1到 41 的整數和為 2050\n",
            "1到 42 的整數和為 2100\n",
            "1到 43 的整數和為 2150\n",
            "1到 44 的整數和為 2200\n",
            "1到 45 的整數和為 2250\n",
            "1到 46 的整數和為 2300\n",
            "1到 47 的整數和為 2350\n",
            "1到 48 的整數和為 2400\n",
            "1到 49 的整數和為 2450\n",
            "1到 50 的整數和為 2500\n"
          ]
        }
      ]
    },
    {
      "cell_type": "code",
      "source": [
        "for j in range(1,5):\n",
        "   print(j)\n",
        "for i in range(1,3):\n",
        "    k=i*j\n",
        "    print(j,\"*\",i,\"=\",k)"
      ],
      "metadata": {
        "colab": {
          "base_uri": "https://localhost:8080/"
        },
        "id": "9_BYcSxJITvr",
        "outputId": "bcd7af3b-1dc8-46e3-a78a-28efc81bd514"
      },
      "execution_count": 17,
      "outputs": [
        {
          "output_type": "stream",
          "name": "stdout",
          "text": [
            "1\n",
            "2\n",
            "3\n",
            "4\n",
            "4 * 1 = 4\n",
            "4 * 2 = 8\n"
          ]
        }
      ]
    },
    {
      "cell_type": "code",
      "source": [
        "for i in range(1,5):\n",
        "  if(i==4):\n",
        "    break\n",
        "  print(i,end=\" \")\n"
      ],
      "metadata": {
        "colab": {
          "base_uri": "https://localhost:8080/"
        },
        "id": "5NT9BlSBLfFE",
        "outputId": "b232ead6-88fc-416d-a33e-0f7960da31d4"
      },
      "execution_count": 20,
      "outputs": [
        {
          "output_type": "stream",
          "name": "stdout",
          "text": [
            "1 2 3 "
          ]
        }
      ]
    },
    {
      "cell_type": "code",
      "source": [
        "for i in range(1,5):\n",
        "  if(i==3):\n",
        "   break\n",
        "  print(i,end=\" \")"
      ],
      "metadata": {
        "colab": {
          "base_uri": "https://localhost:8080/"
        },
        "id": "xh2LTlIXMRgd",
        "outputId": "5f8e84b8-fd53-49f8-ddc6-82e9ef096f37"
      },
      "execution_count": 21,
      "outputs": [
        {
          "output_type": "stream",
          "name": "stdout",
          "text": [
            "1 2 "
          ]
        }
      ]
    },
    {
      "cell_type": "code",
      "source": [
        "for i in range(1,5):\n",
        "  if(i==4):\n",
        "    continue\n",
        "  print(i,end=\" \")"
      ],
      "metadata": {
        "colab": {
          "base_uri": "https://localhost:8080/"
        },
        "id": "g80pcPS_Mx2T",
        "outputId": "ce733d7c-534a-4e08-daf5-480dd7d097ca"
      },
      "execution_count": 22,
      "outputs": [
        {
          "output_type": "stream",
          "name": "stdout",
          "text": [
            "1 2 3 "
          ]
        }
      ]
    },
    {
      "cell_type": "code",
      "source": [
        "count=0\n",
        "for string in 'hello!':\n",
        "  count+=1\n",
        "  if string=='o':\n",
        "    break\n",
        "  print(string)\n",
        "print(\"迴圈結束\")\n",
        "print(\"迴圈執行了%d次\"%count)"
      ],
      "metadata": {
        "colab": {
          "base_uri": "https://localhost:8080/"
        },
        "id": "jknqWJx7NJAx",
        "outputId": "20a1347c-8503-44f9-b3df-b61d5383337b"
      },
      "execution_count": 26,
      "outputs": [
        {
          "output_type": "stream",
          "name": "stdout",
          "text": [
            "h\n",
            "e\n",
            "l\n",
            "l\n",
            "迴圈結束\n",
            "迴圈執行了5次\n"
          ]
        }
      ]
    },
    {
      "cell_type": "code",
      "source": [
        "count=0\n",
        "for string in '測試看看!':\n",
        "  count+=1\n",
        "  if string=='看':\n",
        "    break\n",
        "  print(string)\n",
        "print(\"迴圈結束\")\n",
        "print(\"迴圈執行了%d次\"%count)"
      ],
      "metadata": {
        "colab": {
          "base_uri": "https://localhost:8080/"
        },
        "id": "hz1GKc9UOFcl",
        "outputId": "2d6592ba-ba00-4c2f-db53-892edb01f151"
      },
      "execution_count": 29,
      "outputs": [
        {
          "output_type": "stream",
          "name": "stdout",
          "text": [
            "測\n",
            "試\n",
            "迴圈結束\n",
            "迴圈執行了3次\n"
          ]
        }
      ]
    },
    {
      "cell_type": "code",
      "source": [
        ""
      ],
      "metadata": {
        "id": "4zo8TqcEOqqK"
      },
      "execution_count": null,
      "outputs": []
    }
  ]
}