{
  "nbformat": 4,
  "nbformat_minor": 0,
  "metadata": {
    "colab": {
      "name": "Untitled1.ipynb",
      "provenance": [],
      "authorship_tag": "ABX9TyNllBOx69YTUCXX8gqcHH9G",
      "include_colab_link": true
    },
    "kernelspec": {
      "name": "python3",
      "display_name": "Python 3"
    },
    "language_info": {
      "name": "python"
    }
  },
  "cells": [
    {
      "cell_type": "markdown",
      "metadata": {
        "id": "view-in-github",
        "colab_type": "text"
      },
      "source": [
        "<a href=\"https://colab.research.google.com/github/ting1126/Introduction-to-Computers/blob/main/Untitled1.ipynb\" target=\"_parent\"><img src=\"https://colab.research.google.com/assets/colab-badge.svg\" alt=\"Open In Colab\"/></a>"
      ]
    },
    {
      "cell_type": "code",
      "execution_count": null,
      "metadata": {
        "id": "-7I0GVs0QffH"
      },
      "outputs": [],
      "source": [
        "money=input('存放消費者身上有的錢')\n",
        "if(pw=='小於100'):\n",
        "  print('金額不足')\n",
        "\n",
        "if(pw=='100and200'):\n",
        "  print('可購買手機') \n",
        "\n",
        "if(pw=='200and300'):\n",
        "  print('可購買平板')\n",
        "\n",
        "if(pw=='300and400'):\n",
        "  print('可購買電腦')   \n",
        "\n"
      ]
    },
    {
      "cell_type": "code",
      "source": [
        ""
      ],
      "metadata": {
        "id": "ZRC4D7xcSTyY"
      },
      "execution_count": null,
      "outputs": []
    }
  ]
}